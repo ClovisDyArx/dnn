{
 "cells": [
  {
   "cell_type": "markdown",
   "metadata": {
    "id": "g3TS3x6pxBB0"
   },
   "source": [
    "<center><h1>Automatic Differentiation with Autograd</h1></center>\n",
    "\n",
    "<center><h2><a href=\"https://deepcourse-epita.netlify.app/\">Course link</a></h2></center>\n",
    "\n",
    "To keep your modifications in case you want to come back later to this colab, do *File -> Save a copy in Drive*.\n",
    "\n",
    "If you find a mistake, or know how to improve this notebook, please open an issue [here](https://gitlab.com/ey_datakalab/course_epita).\n",
    "\n",
    "In this notebook, we will see that we don't need to define the gradients of all our fancy operations. Pytorch's autograd can automatically find the gradients for us.\n",
    "\n",
    "After a few exercice on this, we will recode our MLP from [last course](https://deepcourse-epita.netlify.app/notebooks/Backpropagation_Deepcourse.ipynb) with the backward pass implemented with autograd. \n",
    "\n",
    "Finally, we will discover `torch.nn`, the package containing pre-implemented deep learning layers and how we can code a MLP using it.\n",
    "\n",
    "In the next code block, we are loading the data that will be useful later on."
   ]
  },
  {
   "cell_type": "code",
   "execution_count": 1,
   "metadata": {
    "id": "rB9o31WUpe9k"
   },
   "outputs": [
    {
     "name": "stdout",
     "output_type": "stream",
     "text": [
      "Min and max value: 0.0, 1.0\n",
      "Flatenned images shape: torch.Size([1797, 64])\n"
     ]
    },
    {
     "data": {
      "image/png": "[encoded data removed]",
      "text/plain": [
       "<Figure size 640x480 with 3 Axes>"
      ]
     },
     "metadata": {},
     "output_type": "display_data"
    }
   ],
   "source": [
    "%matplotlib inline\n",
    "\n",
    "import torch\n",
    "import numpy as np\n",
    "from sklearn.datasets import load_digits\n",
    "import matplotlib.pyplot as plt\n",
    "\n",
    "digits = load_digits()\n",
    "X = torch.tensor(digits[\"images\"]).float()\n",
    "Y = torch.tensor(digits[\"target\"]).long()\n",
    "\n",
    "plt.subplot(1, 3, 1)\n",
    "plt.imshow(X[42], cmap=\"gray\")\n",
    "plt.title(f\"Digit: {Y[42]}\");\n",
    "\n",
    "plt.subplot(1, 3, 2)\n",
    "plt.imshow(X[64], cmap=\"gray\")\n",
    "plt.title(f\"Digit: {Y[64]}\");\n",
    "\n",
    "plt.subplot(1, 3, 3)\n",
    "plt.imshow(X[1337], cmap=\"gray\")\n",
    "plt.title(f\"Digit: {Y[1337]}\");\n",
    "\n",
    "X = X / X.max()\n",
    "print(f\"Min and max value: {X.min()}, {X.max()}\")\n",
    "\n",
    "X = X.view(X.shape[0], -1)\n",
    "print(f\"Flatenned images shape: {X.shape}\")"
   ]
  },
  {
   "cell_type": "markdown",
   "metadata": {
    "id": "4Gp8MB_4pe9k"
   },
   "source": [
    "---\n",
    "\n",
    "# 1. Autograd tutorial\n",
    "\n",
    "Torch tensors have two optional attributes: `requires_grad`, and `grad`. The former says that we want the gradients to be computed for this given tensor, and the latter stores the actual gradients.\n",
    "\n",
    "By default `requires_grad` is false. When does it make sense to have it false? For example when:\n",
    "- the tensor is the images pixels. We don't want to optimize those;\n",
    "- we don't want to update the tensor/weights, because we want it *frozen* (more on it in later courses).\n",
    "\n",
    "Let's have a quick example, with the power of two function:\n",
    "\n",
    "$f(x) = x^2 \\rightarrow f'(x) = 2x$\n",
    "\n",
    "Thus $f(4) = 16$ and $f'(4) = 8$."
   ]
  },
  {
   "cell_type": "code",
   "execution_count": 2,
   "metadata": {
    "id": "Qj8tzaghpe9k"
   },
   "outputs": [
    {
     "name": "stdout",
     "output_type": "stream",
     "text": [
      "x=4.0, f(4.0)=16.0\n",
      "x=4.0, f'(4.0)=8.0\n"
     ]
    }
   ],
   "source": [
    "x = torch.tensor(4., requires_grad=True)\n",
    "\n",
    "def f(x):\n",
    "  return x ** 2\n",
    "\n",
    "y = f(x)\n",
    "print(f\"x={x}, f({x})={y}\")\n",
    "\n",
    "# We ask autograd to \"backward\" the gradients up to the start\n",
    "y.backward()\n",
    "\n",
    "print(f\"x={x}, f'({x})={x.grad}\")"
   ]
  },
  {
   "cell_type": "markdown",
   "metadata": {
    "id": "JD698wRg0aC4"
   },
   "source": [
    "Note that `backward` can, by default, only be called on a **scalar** (aka a number), not on a **tensor** (aka a vector, matrix, etc.). That's a specificity of pytorch.\n",
    "\n",
    "Here is two examples of how we can deal with that: "
   ]
  },
  {
   "cell_type": "code",
   "execution_count": 3,
   "metadata": {
    "id": "newLoOBkpe9k"
   },
   "outputs": [
    {
     "name": "stdout",
     "output_type": "stream",
     "text": [
      "Gradients: tensor([2., 8., 4.])\n",
      "Gradients: tensor([2., 8., 4.])\n"
     ]
    }
   ],
   "source": [
    "x = torch.tensor([1., 4., 2.], requires_grad=True)\n",
    "(x ** 2).sum().backward()\n",
    "print(f\"Gradients: {x.grad}\")\n",
    "\n",
    "x = torch.tensor([1., 4., 2.], requires_grad=True)\n",
    "(x ** 2).backward(torch.tensor([1, 1, 1]))\n",
    "print(f\"Gradients: {x.grad}\")"
   ]
  },
  {
   "cell_type": "markdown",
   "metadata": {
    "id": "yijKe_DM2Z1A"
   },
   "source": [
    "Now let's take the formulas of a fully connected layer with 1 output...\n",
    "\n",
    "$\\mathbf{x} \\in \\mathbb{R^n}$, $\\mathbf{W} \\in \\mathbb{R^{n}}$, and $\\mathbf{b} \\in \\mathbb{R}$:\n",
    "\n",
    "$\\mathbf{h} = \\mathbf{W}\\mathbf{x} + \\mathbf{b}$\n",
    "\n",
    "... and code it in pytorch! What are gradients w.r.t the weights $\\mathbf{W}$ and $\\mathbf{b}$ according to you? Check it with autograd."
   ]
  },
  {
   "cell_type": "code",
   "execution_count": 4,
   "metadata": {
    "id": "QpKoK3TIwUsU"
   },
   "outputs": [
    {
     "name": "stdout",
     "output_type": "stream",
     "text": [
      "x is\n",
      " tensor([2.1793, 0.1360])\n",
      "grad W is\n",
      " tensor([2.1793, 0.1360])\n",
      "grad b is\n",
      " tensor([1.])\n"
     ]
    }
   ],
   "source": [
    "n = 2\n",
    "w = torch.randn(n, requires_grad=True)\n",
    "b = torch.randn(1, requires_grad=True)\n",
    "x = torch.randn(n)\n",
    "\n",
    "h = torch.dot(w, x) + b\n",
    "h.backward()\n",
    "\n",
    "print(f\"x is\\n {x}\")\n",
    "print(f\"grad W is\\n {w.grad}\")\n",
    "print(f\"grad b is\\n {b.grad}\")"
   ]
  },
  {
   "cell_type": "markdown",
   "metadata": {
    "id": "6xtDKHtJ6gQU"
   },
   "source": [
    "That's right, $\\nabla_\\mathbf{W} \\mathcal{L} = \\mathbf{x}$ and $\\nabla_\\mathbf{b} \\mathcal{L} = 1$. But what happens if our layer has not 1 outputs but $m$ with $\\mathbf{W} \\in \\mathbb{R^{m \\times n}}$, and $\\mathbf{b} \\in \\mathbb{R^{m}}$?"
   ]
  },
  {
   "cell_type": "code",
   "execution_count": 5,
   "metadata": {
    "id": "NzDXw9AP55Eg"
   },
   "outputs": [
    {
     "name": "stdout",
     "output_type": "stream",
     "text": [
      "x is\n",
      " tensor([0.5929, 0.1690])\n",
      "grad W is\n",
      " tensor([[0.5929, 0.1690],\n",
      "        [0.5929, 0.1690],\n",
      "        [0.5929, 0.1690]])\n",
      "grad b is\n",
      " tensor([1., 1., 1.])\n"
     ]
    }
   ],
   "source": [
    "n, m = 2, 3\n",
    "\n",
    "w = torch.randn(m, n, requires_grad=True)\n",
    "b = torch.randn(m, requires_grad=True)\n",
    "x = torch.randn(n)\n",
    "\n",
    "# torch.mv for \"Matrix-Matrix product\"\n",
    "h = torch.mv(w, x) + b\n",
    "h.sum().backward()\n",
    "\n",
    "print(f\"x is\\n {x}\")\n",
    "print(f\"grad W is\\n {w.grad}\")\n",
    "print(f\"grad b is\\n {b.grad}\")"
   ]
  },
  {
   "cell_type": "markdown",
   "metadata": {
    "id": "BuxWKesPYVsg"
   },
   "source": [
    "$\\nabla_\\mathbf{W} \\mathcal{L}$ is simply $\\mathbf{x}$ stacked $m$ times. Which can do with an outer product: "
   ]
  },
  {
   "cell_type": "code",
   "execution_count": 6,
   "metadata": {
    "id": "tlYzbk3LXzvE"
   },
   "outputs": [
    {
     "data": {
      "text/plain": [
       "tensor([[0.5929, 0.1690],\n",
       "        [0.5929, 0.1690],\n",
       "        [0.5929, 0.1690]])"
      ]
     },
     "execution_count": 6,
     "metadata": {},
     "output_type": "execute_result"
    }
   ],
   "source": [
    "torch.outer(torch.tensor([1., 1., 1.]), x)"
   ]
  },
  {
   "cell_type": "markdown",
   "metadata": {
    "id": "GK3qDsUZYuKI"
   },
   "source": [
    "Intuitively, it means that $\\mathbf{x}$ contributes equally to each output dimension of the fully connected layer.\n",
    "\n",
    "Now, let's add a dimension to $\\mathbf{x} \\in \\mathbb{R^{k \\times n}}$ where $k$ represent the **batch size** (how many samples do we see in the same forward/backward pass). In doubt, look at the shape of each tensors to see how to do it."
   ]
  },
  {
   "cell_type": "code",
   "execution_count": 7,
   "metadata": {
    "id": "LZv-HGAPWmwg"
   },
   "outputs": [
    {
     "name": "stdout",
     "output_type": "stream",
     "text": [
      "Output shape is torch.Size([4, 3])\n",
      "x is\n",
      " tensor([[ 0.0052,  1.2606],\n",
      "        [ 0.6669, -0.3393],\n",
      "        [ 0.2513,  0.0101],\n",
      "        [ 0.4505,  1.5421]])\n",
      "grad W is\n",
      " tensor([[1.3738, 1.3738, 1.3738],\n",
      "        [2.4736, 2.4736, 2.4736]])\n",
      "grad b is\n",
      " tensor([4., 4., 4.])\n"
     ]
    }
   ],
   "source": [
    "k, n, m = 4, 2, 3\n",
    "\n",
    "w = torch.randn(n, m, requires_grad=True)\n",
    "b = torch.randn(m, requires_grad=True)\n",
    "x = torch.randn(k, n)\n",
    "\n",
    "# torch.nmv for \"Matrix-Matrix product\"\n",
    "h = torch.mm(x, w) + b\n",
    "print(f\"Output shape is {h.shape}\")\n",
    "h.sum().backward()\n",
    "\n",
    "print(f\"x is\\n {x}\")\n",
    "print(f\"grad W is\\n {w.grad}\")\n",
    "print(f\"grad b is\\n {b.grad}\")"
   ]
  },
  {
   "cell_type": "markdown",
   "metadata": {
    "id": "gvrEvYcHZU50"
   },
   "source": [
    "Notice that, now, we do a matrix multiplication between $\\mathbf{X}$ on the left, and $\\mathbf{W}$ on the right. Intuitively we don't want to change the batch size $k$ dimension of the inputs, but only the features dimension $n$.\n",
    "\n",
    "Now the values of $\\nabla_\\mathbf{W} \\mathcal{L}$ and $\\nabla_\\mathbf{b} \\mathcal{L}$ are dependent on the batch size $k$. Which is why we usually normalize both gradients by $k$:"
   ]
  },
  {
   "cell_type": "code",
   "execution_count": 8,
   "metadata": {
    "id": "1nOvlkJWXkuI"
   },
   "outputs": [
    {
     "name": "stdout",
     "output_type": "stream",
     "text": [
      "Mean of x alongside the batch dimension (first one) is\n",
      " tensor([0.3435, 0.6184])\n",
      "Normalized w grad is\n",
      " tensor([[0.3435, 0.3435, 0.3435],\n",
      "        [0.6184, 0.6184, 0.6184]])\n",
      "Normalized b grad is\n",
      " tensor([1., 1., 1.])\n"
     ]
    }
   ],
   "source": [
    "print(f\"Mean of x alongside the batch dimension (first one) is\\n {x.mean(dim=0)}\")\n",
    "print(f\"Normalized w grad is\\n {w.grad / k}\")\n",
    "print(f\"Normalized b grad is\\n {b.grad / k}\")\n"
   ]
  },
  {
   "cell_type": "markdown",
   "metadata": {
    "id": "j-N7o-1h3x6g"
   },
   "source": [
    "---\n",
    "\n",
    "# 2. MLP with Autograd\n",
    "\n",
    "Let's recode the MLP from previous session with autograd, we only have to modify the backward pass.\n",
    "\n",
    "Notice that we have wrapped the weights and biases into a `Parameter` class. By default it will force the wrapped tensor to requires the gradient among other stuffs.\n",
    "\n",
    "**Important**: when updating the weights and biases parameters, you have to modify their `data` attribute, not the actual tensor. Every operation done on a tensor that requires grad is recorded in order for Autograd to compute the necessary gradients. But we don't need that when updating the weights and biases.\n",
    "\n",
    "```python\n",
    "new_w = old_w - lr * gradient  # Bad\n",
    "\n",
    "new_w.data = old_w.data - lr * gradient  # Goo``\n",
    "```"
   ]
  },
  {
   "cell_type": "code",
   "execution_count": 25,
   "metadata": {
    "id": "h0HOkht3eTaM"
   },
   "outputs": [],
   "source": [
    "from torch.nn import Parameter\n",
    "\n",
    "def softmax(x):\n",
    "    maximum_value = x.max(dim=1, keepdims=True)[0]\n",
    "    e = torch.exp(x - maximum_value)\n",
    "    return e / e.sum(dim=1, keepdims=True)\n",
    "\n",
    "def cross_entropy(probs, targets):\n",
    "    return -torch.sum(targets * torch.log(probs + 1e-8), dim=1)"
   ]
  },
  {
   "cell_type": "code",
   "execution_count": 35,
   "metadata": {
    "id": "KsCQhtWPpe9k"
   },
   "outputs": [],
   "source": [
    "class MLP:\n",
    "    def __init__(self, input_size, hidden_size, nb_classes, learning_rate=0.01):\n",
    "        self.w_hidden = Parameter(torch.randn(input_size, hidden_size).float())\n",
    "        self.b_hidden = Parameter(torch.zeros(hidden_size).float())\n",
    "\n",
    "        self.w_output = Parameter(torch.randn(hidden_size, nb_classes).float())\n",
    "        self.b_output = Parameter(torch.zeros(nb_classes).float())\n",
    "\n",
    "        self.learning_rate = learning_rate\n",
    "\n",
    "    def forward(self, x):\n",
    "        h_tilde = torch.mm(x, self.w_hidden) + self.b_hidden\n",
    "        h = torch.tanh(h_tilde)\n",
    "        logits = torch.mm(h, self.w_output) + self.b_output\n",
    "\n",
    "        return logits, h_tilde, h\n",
    "\n",
    "    def fit(self, inputs, targets, train=True):\n",
    "        logits, *outputs = self.forward(inputs)\n",
    "        probs = softmax(logits)\n",
    "        loss = cross_entropy(probs, torch.eye(10)[targets]).sum()\n",
    "        if train:\n",
    "            self.backward(inputs, probs, targets, loss, *outputs)\n",
    "        return loss\n",
    "\n",
    "    def backward(self, inputs, probs, targets, loss, h_tilde, h):\n",
    "        batch_size = len(probs)\n",
    "\n",
    "        loss.backward()\n",
    "\n",
    "        self.w_output.data = self.w_output.data - self.learning_rate * self.w_output.grad / batch_size\n",
    "        self.b_output.data = self.b_output.data - self.learning_rate * self.b_output.grad / batch_size\n",
    "        self.w_hidden.data = self.w_hidden.data - self.learning_rate * self.w_hidden.grad / batch_size\n",
    "        self.b_hidden.data = self.b_hidden.data - self.learning_rate * self.b_hidden.grad / batch_size\n",
    "\n",
    "    def accuracy(self, inputs, targets):\n",
    "        y_pred = self.forward(inputs)[0].argmax(dim=1)\n",
    "        y_true = targets\n",
    "\n",
    "        return torch.mean((y_pred == y_true).float())"
   ]
  },
  {
   "cell_type": "code",
   "execution_count": 36,
   "metadata": {
    "id": "UmR9j8iNku30"
   },
   "outputs": [
    {
     "name": "stdout",
     "output_type": "stream",
     "text": [
      "--2024-10-11 11:12:55--  https://deepcourse-epita.netlify.app/code/backpropagation/mlp_autograd.py\n",
      "Loaded CA certificate '/etc/ssl/certs/ca-certificates.crt'\n",
      "Resolving deepcourse-epita.netlify.app (deepcourse-epita.netlify.app)... 35.156.224.161, 52.58.254.253, 2a05:d014:275:cb02::c8, ...\n",
      "Connecting to deepcourse-epita.netlify.app (deepcourse-epita.netlify.app)|35.156.224.161|:443... connected.\n",
      "HTTP request sent, awaiting response... 200 OK\n",
      "Length: 1660 (1,6K) [text/x-python3]\n",
      "Saving to: ‘mlp_autograd.py.5’\n",
      "\n",
      "mlp_autograd.py.5   100%[===================>]   1,62K  --.-KB/s    in 0s      \n",
      "\n",
      "2024-10-11 11:12:55 (35,6 MB/s) - ‘mlp_autograd.py.5’ saved [1660/1660]\n",
      "\n"
     ]
    },
    {
     "data": {
      "text/plain": [
       "\u001b[0;32mclass\u001b[0m \u001b[0mMLP\u001b[0m\u001b[0;34m:\u001b[0m\u001b[0;34m\u001b[0m\n",
       "\u001b[0;34m\u001b[0m    \u001b[0;32mdef\u001b[0m \u001b[0m__init__\u001b[0m\u001b[0;34m(\u001b[0m\u001b[0mself\u001b[0m\u001b[0;34m,\u001b[0m \u001b[0minput_size\u001b[0m\u001b[0;34m,\u001b[0m \u001b[0mhidden_size\u001b[0m\u001b[0;34m,\u001b[0m \u001b[0mnb_classes\u001b[0m\u001b[0;34m,\u001b[0m \u001b[0mlearning_rate\u001b[0m\u001b[0;34m=\u001b[0m\u001b[0;36m0.01\u001b[0m\u001b[0;34m)\u001b[0m\u001b[0;34m:\u001b[0m\u001b[0;34m\u001b[0m\n",
       "\u001b[0;34m\u001b[0m        \u001b[0mself\u001b[0m\u001b[0;34m.\u001b[0m\u001b[0mw_hidden\u001b[0m \u001b[0;34m=\u001b[0m \u001b[0mParameter\u001b[0m\u001b[0;34m(\u001b[0m\u001b[0mtorch\u001b[0m\u001b[0;34m.\u001b[0m\u001b[0mrandn\u001b[0m\u001b[0;34m(\u001b[0m\u001b[0minput_size\u001b[0m\u001b[0;34m,\u001b[0m \u001b[0mhidden_size\u001b[0m\u001b[0;34m)\u001b[0m\u001b[0;34m.\u001b[0m\u001b[0mfloat\u001b[0m\u001b[0;34m(\u001b[0m\u001b[0;34m)\u001b[0m\u001b[0;34m)\u001b[0m\u001b[0;34m\u001b[0m\n",
       "\u001b[0;34m\u001b[0m        \u001b[0mself\u001b[0m\u001b[0;34m.\u001b[0m\u001b[0mb_hidden\u001b[0m \u001b[0;34m=\u001b[0m \u001b[0mParameter\u001b[0m\u001b[0;34m(\u001b[0m\u001b[0mtorch\u001b[0m\u001b[0;34m.\u001b[0m\u001b[0mzeros\u001b[0m\u001b[0;34m(\u001b[0m\u001b[0mhidden_size\u001b[0m\u001b[0;34m)\u001b[0m\u001b[0;34m.\u001b[0m\u001b[0mfloat\u001b[0m\u001b[0;34m(\u001b[0m\u001b[0;34m)\u001b[0m\u001b[0;34m)\u001b[0m\u001b[0;34m\u001b[0m\n",
       "\u001b[0;34m\u001b[0m\u001b[0;34m\u001b[0m\n",
       "\u001b[0;34m\u001b[0m        \u001b[0mself\u001b[0m\u001b[0;34m.\u001b[0m\u001b[0mw_output\u001b[0m \u001b[0;34m=\u001b[0m \u001b[0mParameter\u001b[0m\u001b[0;34m(\u001b[0m\u001b[0mtorch\u001b[0m\u001b[0;34m.\u001b[0m\u001b[0mrandn\u001b[0m\u001b[0;34m(\u001b[0m\u001b[0mhidden_size\u001b[0m\u001b[0;34m,\u001b[0m \u001b[0mnb_classes\u001b[0m\u001b[0;34m)\u001b[0m\u001b[0;34m.\u001b[0m\u001b[0mfloat\u001b[0m\u001b[0;34m(\u001b[0m\u001b[0;34m)\u001b[0m\u001b[0;34m)\u001b[0m\u001b[0;34m\u001b[0m\n",
       "\u001b[0;34m\u001b[0m        \u001b[0mself\u001b[0m\u001b[0;34m.\u001b[0m\u001b[0mb_output\u001b[0m \u001b[0;34m=\u001b[0m \u001b[0mParameter\u001b[0m\u001b[0;34m(\u001b[0m\u001b[0mtorch\u001b[0m\u001b[0;34m.\u001b[0m\u001b[0mzeros\u001b[0m\u001b[0;34m(\u001b[0m\u001b[0mnb_classes\u001b[0m\u001b[0;34m)\u001b[0m\u001b[0;34m.\u001b[0m\u001b[0mfloat\u001b[0m\u001b[0;34m(\u001b[0m\u001b[0;34m)\u001b[0m\u001b[0;34m)\u001b[0m\u001b[0;34m\u001b[0m\n",
       "\u001b[0;34m\u001b[0m\u001b[0;34m\u001b[0m\n",
       "\u001b[0;34m\u001b[0m        \u001b[0mself\u001b[0m\u001b[0;34m.\u001b[0m\u001b[0mlearning_rate\u001b[0m \u001b[0;34m=\u001b[0m \u001b[0mlearning_rate\u001b[0m\u001b[0;34m\u001b[0m\n",
       "\u001b[0;34m\u001b[0m\u001b[0;34m\u001b[0m\n",
       "\u001b[0;34m\u001b[0m    \u001b[0;32mdef\u001b[0m \u001b[0mforward\u001b[0m\u001b[0;34m(\u001b[0m\u001b[0mself\u001b[0m\u001b[0;34m,\u001b[0m \u001b[0mx\u001b[0m\u001b[0;34m)\u001b[0m\u001b[0;34m:\u001b[0m\u001b[0;34m\u001b[0m\n",
       "\u001b[0;34m\u001b[0m        \u001b[0mh_tilde\u001b[0m \u001b[0;34m=\u001b[0m \u001b[0mtorch\u001b[0m\u001b[0;34m.\u001b[0m\u001b[0mmm\u001b[0m\u001b[0;34m(\u001b[0m\u001b[0mx\u001b[0m\u001b[0;34m,\u001b[0m \u001b[0mself\u001b[0m\u001b[0;34m.\u001b[0m\u001b[0mw_hidden\u001b[0m\u001b[0;34m)\u001b[0m \u001b[0;34m+\u001b[0m \u001b[0mself\u001b[0m\u001b[0;34m.\u001b[0m\u001b[0mb_hidden\u001b[0m\u001b[0;34m\u001b[0m\n",
       "\u001b[0;34m\u001b[0m        \u001b[0mh\u001b[0m \u001b[0;34m=\u001b[0m \u001b[0mtorch\u001b[0m\u001b[0;34m.\u001b[0m\u001b[0mtanh\u001b[0m\u001b[0;34m(\u001b[0m\u001b[0mh_tilde\u001b[0m\u001b[0;34m)\u001b[0m\u001b[0;34m\u001b[0m\n",
       "\u001b[0;34m\u001b[0m        \u001b[0mlogits\u001b[0m \u001b[0;34m=\u001b[0m \u001b[0mtorch\u001b[0m\u001b[0;34m.\u001b[0m\u001b[0mmm\u001b[0m\u001b[0;34m(\u001b[0m\u001b[0mh\u001b[0m\u001b[0;34m,\u001b[0m \u001b[0mself\u001b[0m\u001b[0;34m.\u001b[0m\u001b[0mw_output\u001b[0m\u001b[0;34m)\u001b[0m \u001b[0;34m+\u001b[0m \u001b[0mself\u001b[0m\u001b[0;34m.\u001b[0m\u001b[0mb_output\u001b[0m\u001b[0;34m\u001b[0m\n",
       "\u001b[0;34m\u001b[0m\u001b[0;34m\u001b[0m\n",
       "\u001b[0;34m\u001b[0m        \u001b[0;32mreturn\u001b[0m \u001b[0mlogits\u001b[0m\u001b[0;34m,\u001b[0m \u001b[0mh_tilde\u001b[0m\u001b[0;34m,\u001b[0m \u001b[0mh\u001b[0m\u001b[0;34m\u001b[0m\n",
       "\u001b[0;34m\u001b[0m\u001b[0;34m\u001b[0m\n",
       "\u001b[0;34m\u001b[0m    \u001b[0;32mdef\u001b[0m \u001b[0mfit\u001b[0m\u001b[0;34m(\u001b[0m\u001b[0mself\u001b[0m\u001b[0;34m,\u001b[0m \u001b[0minputs\u001b[0m\u001b[0;34m,\u001b[0m \u001b[0mtargets\u001b[0m\u001b[0;34m,\u001b[0m \u001b[0mtrain\u001b[0m\u001b[0;34m=\u001b[0m\u001b[0;32mTrue\u001b[0m\u001b[0;34m)\u001b[0m\u001b[0;34m:\u001b[0m\u001b[0;34m\u001b[0m\n",
       "\u001b[0;34m\u001b[0m        \u001b[0mlogits\u001b[0m\u001b[0;34m,\u001b[0m \u001b[0;34m*\u001b[0m\u001b[0moutputs\u001b[0m \u001b[0;34m=\u001b[0m \u001b[0mself\u001b[0m\u001b[0;34m.\u001b[0m\u001b[0mforward\u001b[0m\u001b[0;34m(\u001b[0m\u001b[0minputs\u001b[0m\u001b[0;34m)\u001b[0m\u001b[0;34m\u001b[0m\n",
       "\u001b[0;34m\u001b[0m        \u001b[0mprobs\u001b[0m \u001b[0;34m=\u001b[0m \u001b[0msoftmax\u001b[0m\u001b[0;34m(\u001b[0m\u001b[0mlogits\u001b[0m\u001b[0;34m)\u001b[0m\u001b[0;34m\u001b[0m\n",
       "\u001b[0;34m\u001b[0m        \u001b[0mloss\u001b[0m \u001b[0;34m=\u001b[0m \u001b[0mcross_entropy\u001b[0m\u001b[0;34m(\u001b[0m\u001b[0mprobs\u001b[0m\u001b[0;34m,\u001b[0m \u001b[0mtorch\u001b[0m\u001b[0;34m.\u001b[0m\u001b[0meye\u001b[0m\u001b[0;34m(\u001b[0m\u001b[0;36m10\u001b[0m\u001b[0;34m)\u001b[0m\u001b[0;34m[\u001b[0m\u001b[0mtargets\u001b[0m\u001b[0;34m]\u001b[0m\u001b[0;34m)\u001b[0m\u001b[0;34m.\u001b[0m\u001b[0msum\u001b[0m\u001b[0;34m(\u001b[0m\u001b[0;34m)\u001b[0m\u001b[0;34m\u001b[0m\n",
       "\u001b[0;34m\u001b[0m        \u001b[0;32mif\u001b[0m \u001b[0mtrain\u001b[0m\u001b[0;34m:\u001b[0m\u001b[0;34m\u001b[0m\n",
       "\u001b[0;34m\u001b[0m            \u001b[0mself\u001b[0m\u001b[0;34m.\u001b[0m\u001b[0mbackward\u001b[0m\u001b[0;34m(\u001b[0m\u001b[0minputs\u001b[0m\u001b[0;34m,\u001b[0m \u001b[0mprobs\u001b[0m\u001b[0;34m,\u001b[0m \u001b[0mtargets\u001b[0m\u001b[0;34m,\u001b[0m \u001b[0mloss\u001b[0m\u001b[0;34m,\u001b[0m \u001b[0;34m*\u001b[0m\u001b[0moutputs\u001b[0m\u001b[0;34m)\u001b[0m\u001b[0;34m\u001b[0m\n",
       "\u001b[0;34m\u001b[0m        \u001b[0;32mreturn\u001b[0m \u001b[0mloss\u001b[0m\u001b[0;34m\u001b[0m\n",
       "\u001b[0;34m\u001b[0m\u001b[0;34m\u001b[0m\n",
       "\u001b[0;34m\u001b[0m    \u001b[0;32mdef\u001b[0m \u001b[0mbackward\u001b[0m\u001b[0;34m(\u001b[0m\u001b[0mself\u001b[0m\u001b[0;34m,\u001b[0m \u001b[0minputs\u001b[0m\u001b[0;34m,\u001b[0m \u001b[0mprobs\u001b[0m\u001b[0;34m,\u001b[0m \u001b[0mtargets\u001b[0m\u001b[0;34m,\u001b[0m \u001b[0mloss\u001b[0m\u001b[0;34m,\u001b[0m \u001b[0mh_tilde\u001b[0m\u001b[0;34m,\u001b[0m \u001b[0mh\u001b[0m\u001b[0;34m)\u001b[0m\u001b[0;34m:\u001b[0m\u001b[0;34m\u001b[0m\n",
       "\u001b[0;34m\u001b[0m        \u001b[0mbatch_size\u001b[0m \u001b[0;34m=\u001b[0m \u001b[0mlen\u001b[0m\u001b[0;34m(\u001b[0m\u001b[0mprobs\u001b[0m\u001b[0;34m)\u001b[0m\u001b[0;34m\u001b[0m\n",
       "\u001b[0;34m\u001b[0m\u001b[0;34m\u001b[0m\n",
       "\u001b[0;34m\u001b[0m        \u001b[0mloss\u001b[0m\u001b[0;34m.\u001b[0m\u001b[0mbackward\u001b[0m\u001b[0;34m(\u001b[0m\u001b[0;34m)\u001b[0m\u001b[0;34m\u001b[0m\n",
       "\u001b[0;34m\u001b[0m\u001b[0;34m\u001b[0m\n",
       "\u001b[0;34m\u001b[0m        \u001b[0mself\u001b[0m\u001b[0;34m.\u001b[0m\u001b[0mw_output\u001b[0m\u001b[0;34m.\u001b[0m\u001b[0mdata\u001b[0m \u001b[0;34m=\u001b[0m \u001b[0mself\u001b[0m\u001b[0;34m.\u001b[0m\u001b[0mw_output\u001b[0m\u001b[0;34m.\u001b[0m\u001b[0mdata\u001b[0m \u001b[0;34m-\u001b[0m \u001b[0mself\u001b[0m\u001b[0;34m.\u001b[0m\u001b[0mlearning_rate\u001b[0m \u001b[0;34m*\u001b[0m \u001b[0mself\u001b[0m\u001b[0;34m.\u001b[0m\u001b[0mw_output\u001b[0m\u001b[0;34m.\u001b[0m\u001b[0mgrad\u001b[0m \u001b[0;34m/\u001b[0m \u001b[0mbatch_size\u001b[0m\u001b[0;34m\u001b[0m\n",
       "\u001b[0;34m\u001b[0m        \u001b[0mself\u001b[0m\u001b[0;34m.\u001b[0m\u001b[0mb_output\u001b[0m\u001b[0;34m.\u001b[0m\u001b[0mdata\u001b[0m \u001b[0;34m=\u001b[0m \u001b[0mself\u001b[0m\u001b[0;34m.\u001b[0m\u001b[0mb_output\u001b[0m\u001b[0;34m.\u001b[0m\u001b[0mdata\u001b[0m \u001b[0;34m-\u001b[0m \u001b[0mself\u001b[0m\u001b[0;34m.\u001b[0m\u001b[0mlearning_rate\u001b[0m \u001b[0;34m*\u001b[0m \u001b[0mself\u001b[0m\u001b[0;34m.\u001b[0m\u001b[0mb_output\u001b[0m\u001b[0;34m.\u001b[0m\u001b[0mgrad\u001b[0m \u001b[0;34m/\u001b[0m \u001b[0mbatch_size\u001b[0m\u001b[0;34m\u001b[0m\n",
       "\u001b[0;34m\u001b[0m        \u001b[0mself\u001b[0m\u001b[0;34m.\u001b[0m\u001b[0mw_hidden\u001b[0m\u001b[0;34m.\u001b[0m\u001b[0mdata\u001b[0m \u001b[0;34m=\u001b[0m \u001b[0mself\u001b[0m\u001b[0;34m.\u001b[0m\u001b[0mw_hidden\u001b[0m\u001b[0;34m.\u001b[0m\u001b[0mdata\u001b[0m \u001b[0;34m-\u001b[0m \u001b[0mself\u001b[0m\u001b[0;34m.\u001b[0m\u001b[0mlearning_rate\u001b[0m \u001b[0;34m*\u001b[0m \u001b[0mself\u001b[0m\u001b[0;34m.\u001b[0m\u001b[0mw_hidden\u001b[0m\u001b[0;34m.\u001b[0m\u001b[0mgrad\u001b[0m \u001b[0;34m/\u001b[0m \u001b[0mbatch_size\u001b[0m\u001b[0;34m\u001b[0m\n",
       "\u001b[0;34m\u001b[0m        \u001b[0mself\u001b[0m\u001b[0;34m.\u001b[0m\u001b[0mb_hidden\u001b[0m\u001b[0;34m.\u001b[0m\u001b[0mdata\u001b[0m \u001b[0;34m=\u001b[0m \u001b[0mself\u001b[0m\u001b[0;34m.\u001b[0m\u001b[0mb_hidden\u001b[0m\u001b[0;34m.\u001b[0m\u001b[0mdata\u001b[0m \u001b[0;34m-\u001b[0m \u001b[0mself\u001b[0m\u001b[0;34m.\u001b[0m\u001b[0mlearning_rate\u001b[0m \u001b[0;34m*\u001b[0m \u001b[0mself\u001b[0m\u001b[0;34m.\u001b[0m\u001b[0mb_hidden\u001b[0m\u001b[0;34m.\u001b[0m\u001b[0mgrad\u001b[0m \u001b[0;34m/\u001b[0m \u001b[0mbatch_size\u001b[0m\u001b[0;34m\u001b[0m\n",
       "\u001b[0;34m\u001b[0m\u001b[0;34m\u001b[0m\n",
       "\u001b[0;34m\u001b[0m    \u001b[0;32mdef\u001b[0m \u001b[0maccuracy\u001b[0m\u001b[0;34m(\u001b[0m\u001b[0mself\u001b[0m\u001b[0;34m,\u001b[0m \u001b[0minputs\u001b[0m\u001b[0;34m,\u001b[0m \u001b[0mtargets\u001b[0m\u001b[0;34m)\u001b[0m\u001b[0;34m:\u001b[0m\u001b[0;34m\u001b[0m\n",
       "\u001b[0;34m\u001b[0m        \u001b[0my_pred\u001b[0m \u001b[0;34m=\u001b[0m \u001b[0mself\u001b[0m\u001b[0;34m.\u001b[0m\u001b[0mforward\u001b[0m\u001b[0;34m(\u001b[0m\u001b[0minputs\u001b[0m\u001b[0;34m)\u001b[0m\u001b[0;34m[\u001b[0m\u001b[0;36m0\u001b[0m\u001b[0;34m]\u001b[0m\u001b[0;34m.\u001b[0m\u001b[0margmax\u001b[0m\u001b[0;34m(\u001b[0m\u001b[0mdim\u001b[0m\u001b[0;34m=\u001b[0m\u001b[0;36m1\u001b[0m\u001b[0;34m)\u001b[0m\u001b[0;34m\u001b[0m\n",
       "\u001b[0;34m\u001b[0m        \u001b[0my_true\u001b[0m \u001b[0;34m=\u001b[0m \u001b[0mtargets\u001b[0m\u001b[0;34m\u001b[0m\n",
       "\u001b[0;34m\u001b[0m\u001b[0;34m\u001b[0m\n",
       "\u001b[0;34m\u001b[0m        \u001b[0;32mreturn\u001b[0m \u001b[0mtorch\u001b[0m\u001b[0;34m.\u001b[0m\u001b[0mmean\u001b[0m\u001b[0;34m(\u001b[0m\u001b[0;34m(\u001b[0m\u001b[0my_pred\u001b[0m \u001b[0;34m==\u001b[0m \u001b[0my_true\u001b[0m\u001b[0;34m)\u001b[0m\u001b[0;34m.\u001b[0m\u001b[0mfloat\u001b[0m\u001b[0;34m(\u001b[0m\u001b[0;34m)\u001b[0m\u001b[0;34m)\u001b[0m\u001b[0;34m\u001b[0m\u001b[0;34m\u001b[0m\u001b[0m\n"
      ]
     },
     "metadata": {},
     "output_type": "display_data"
    }
   ],
   "source": [
    "# Execute this cell to see the solution, but try to do it by yourself before!\n",
    "!wget https://deepcourse-epita.netlify.app/code/backpropagation/mlp_autograd.py\n",
    "%pycat mlp_autograd.py"
   ]
  },
  {
   "cell_type": "code",
   "execution_count": 37,
   "metadata": {
    "id": "1pntveIepe9k"
   },
   "outputs": [
    {
     "name": "stdout",
     "output_type": "stream",
     "text": [
      "Epoch: 0, loss: 9601.2021484375, accuracy: 0.4835837483406067\n",
      "Epoch: 1, loss: 13242.638671875, accuracy: 0.4808013439178467\n",
      "Epoch: 2, loss: 11988.7978515625, accuracy: 0.5637173056602478\n",
      "Epoch: 3, loss: 14041.236328125, accuracy: 0.5653867721557617\n",
      "Epoch: 4, loss: 19884.26953125, accuracy: 0.39120757579803467\n",
      "Epoch: 5, loss: 17629.953125, accuracy: 0.43572619557380676\n",
      "Epoch: 6, loss: 16522.7109375, accuracy: 0.47189760208129883\n",
      "Epoch: 7, loss: 17114.5625, accuracy: 0.4824707806110382\n",
      "Epoch: 8, loss: 17190.2265625, accuracy: 0.4796883761882782\n",
      "Epoch: 9, loss: 17295.42578125, accuracy: 0.47746244072914124\n"
     ]
    },
    {
     "data": {
      "image/png": "[encoded data removed]",
      "text/plain": [
       "<Figure size 640x480 with 2 Axes>"
      ]
     },
     "metadata": {},
     "output_type": "display_data"
    }
   ],
   "source": [
    "model = MLP(X.shape[1], 50, len(torch.unique(Y)), 0.1)\n",
    "model.accuracy(X, Y)\n",
    "\n",
    "batch_size = 32\n",
    "nb_epochs = 10\n",
    "\n",
    "epochs, accuracies, losses = [], [], []\n",
    "\n",
    "for epoch in range(nb_epochs):\n",
    "    for batch_index in range(0, len(X), batch_size):\n",
    "        batch_X = X[batch_index:batch_index + batch_size]\n",
    "        batch_Y = Y[batch_index:batch_index + batch_size]\n",
    "    \n",
    "        model.fit(batch_X, batch_Y)\n",
    "        \n",
    "    loss = model.fit(X, Y, train=False).item()\n",
    "    acc = model.accuracy(X, Y)\n",
    "    \n",
    "    print(f\"Epoch: {epoch}, loss: {loss}, accuracy: {acc}\")\n",
    "    epochs.append(epoch)\n",
    "    losses.append(loss)\n",
    "    accuracies.append(acc)\n",
    "    \n",
    "plt.subplot(1, 2, 1)\n",
    "plt.plot(epochs, losses)\n",
    "plt.xlabel(\"Epoch\")\n",
    "plt.ylabel(\"Loss\")\n",
    "\n",
    "plt.subplot(1, 2, 2)\n",
    "plt.plot(epochs, accuracies)\n",
    "plt.xlabel(\"Epoch\")\n",
    "plt.ylabel(\"accuracy\");"
   ]
  },
  {
   "cell_type": "markdown",
   "metadata": {
    "id": "-RfrsA_qeIX8"
   },
   "source": [
    "---\n",
    "\n",
    "# 3. MLP with `torch.nn`"
   ]
  },
  {
   "cell_type": "code",
   "execution_count": 19,
   "metadata": {
    "id": "IAMDWiBmpe9k"
   },
   "outputs": [
    {
     "name": "stdout",
     "output_type": "stream",
     "text": [
      "Epoch: 0, loss: 1.620397925376892, accuracy: 0.8091263175010681\n",
      "Epoch: 1, loss: 0.9239156246185303, accuracy: 0.8658875823020935\n",
      "Epoch: 2, loss: 0.5951462388038635, accuracy: 0.8992765545845032\n",
      "Epoch: 3, loss: 0.4329948425292969, accuracy: 0.9215359091758728\n",
      "Epoch: 4, loss: 0.3421207666397095, accuracy: 0.9376739263534546\n",
      "Epoch: 5, loss: 0.2857182025909424, accuracy: 0.9465776085853577\n",
      "Epoch: 6, loss: 0.2477283626794815, accuracy: 0.9510294795036316\n",
      "Epoch: 7, loss: 0.22045490145683289, accuracy: 0.9549248814582825\n",
      "Epoch: 8, loss: 0.19987641274929047, accuracy: 0.9577072858810425\n",
      "Epoch: 9, loss: 0.18373098969459534, accuracy: 0.9610461592674255\n"
     ]
    },
    {
     "data": {
      "image/png": "[encoded data removed]",
      "text/plain": [
       "<Figure size 640x480 with 2 Axes>"
      ]
     },
     "metadata": {},
     "output_type": "display_data"
    }
   ],
   "source": [
    "from torch import nn\n",
    "from torch.nn import functional as F\n",
    "\n",
    "\n",
    "class MLP(nn.Module):\n",
    "  def __init__(self, input_size, hidden_size, nb_classes):\n",
    "    super().__init__()  # Important! torch initializes a bunch of stuff with this line\n",
    "    self.fc1 = nn.Linear(input_size, hidden_size, bias=True)\n",
    "    self.fc2 = nn.Linear(hidden_size, nb_classes, bias=True)\n",
    "\n",
    "  def forward(self, x):\n",
    "    h = torch.tanh(self.fc1(x))\n",
    "    return self.fc2(h)\n",
    "\n",
    "\n",
    "def compute_accuracy(y_pred, y_true):\n",
    "  return torch.mean((y_pred == y_true).float())\n",
    "\n",
    "\n",
    "model = MLP(X.shape[1], 50, len(torch.unique(Y)))\n",
    "optimizer = torch.optim.SGD(model.parameters(), lr=0.1)\n",
    "\n",
    "batch_size = 32\n",
    "nb_epochs = 10\n",
    "\n",
    "epochs, accuracies, losses = [], [], []\n",
    "\n",
    "model.train()\n",
    "\n",
    "for epoch in range(nb_epochs):\n",
    "    for batch_index in range(0, len(X), batch_size):\n",
    "        batch_X = X[batch_index:batch_index + batch_size]\n",
    "        batch_Y = Y[batch_index:batch_index + batch_size]\n",
    "    \n",
    "        optimizer.zero_grad()\n",
    "        logits = model(batch_X)\n",
    "        loss = F.cross_entropy(logits, batch_Y)  # Does implicitely softmax+CE\n",
    "        loss.backward()\n",
    "        optimizer.step()\n",
    "        \n",
    "    \n",
    "    model.eval()\n",
    "    logits = model(X)\n",
    "    loss = F.cross_entropy(logits, Y)\n",
    "    acc = compute_accuracy(logits.argmax(dim=1), Y)\n",
    "    model.train()\n",
    "    \n",
    "    print(f\"Epoch: {epoch}, loss: {loss}, accuracy: {acc}\")\n",
    "    epochs.append(epoch)\n",
    "    losses.append(float(loss.cpu().detach().numpy()))\n",
    "    accuracies.append(acc)\n",
    "    \n",
    "plt.subplot(1, 2, 1)\n",
    "plt.plot(epochs, losses)\n",
    "plt.xlabel(\"Epoch\")\n",
    "plt.ylabel(\"Loss\")\n",
    "\n",
    "plt.subplot(1, 2, 2)\n",
    "plt.plot(epochs, accuracies)\n",
    "plt.xlabel(\"Epoch\")\n",
    "plt.ylabel(\"accuracy\");\n",
    "\n"
   ]
  },
  {
   "cell_type": "markdown",
   "metadata": {
    "id": "a4Ovs3oklVQE"
   },
   "source": [
    "Try by yourself to extend this network and see the results:\n",
    "- add more layers\n",
    "- change the hidden dimension size\n",
    "- change the non-linearity "
   ]
  },
  {
   "cell_type": "code",
   "execution_count": null,
   "metadata": {},
   "outputs": [],
   "source": []
  }
 ],
 "metadata": {
  "colab": {
   "collapsed_sections": [],
   "name": "Autograd - Deepcourse",
   "provenance": []
  },
  "kernelspec": {
   "display_name": "Python 3 (ipykernel)",
   "language": "python",
   "name": "python3"
  },
  "language_info": {
   "codemirror_mode": {
    "name": "ipython",
    "version": 3
   },
   "file_extension": ".py",
   "mimetype": "text/x-python",
   "name": "python",
   "nbconvert_exporter": "python",
   "pygments_lexer": "ipython3",
   "version": "3.12.5"
  },
  "vscode": {
   "interpreter": {
    "hash": "b1e0d1e6a59436e31d783bfd26c5b6f60e538c30c9ef3720fa8b1187e8407f58"
   }
  }
 },
 "nbformat": 4,
 "nbformat_minor": 4
}
